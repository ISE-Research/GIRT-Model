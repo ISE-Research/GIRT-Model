{
 "cells": [
  {
   "cell_type": "code",
   "execution_count": null,
   "id": "738a624e",
   "metadata": {},
   "outputs": [],
   "source": [
    "import torch\n",
    "from transformers import pipeline\n",
    "import pandas as pd\n",
    "from tqdm.notebook import tqdm\n",
    "tqdm.pandas()\n",
    "\n",
    "\n",
    "def fgen(issue):\n",
    " \n",
    "    try:\n",
    "        prompt = \"\"\"<s>[INST] <<SYS>>\n",
    "        You are Zephyr. You are AI-assistant, you are polite, give only truthful information and are based on the Zephyr-7B model from HuggingFaceH4. You can communicate in different languages equally well.\n",
    "        <</SYS>>\\n\\n\n",
    "        \"\"\"\n",
    "\n",
    "        prompt = prompt + \"\" + issue + \"\" + \"\\n\" + \"<<USER>>\" + \"Summarize this Github issue template with only using the text provided. [/INST]\"\n",
    "\n",
    "        outputs = pipe(prompt, max_new_tokens=1024, do_sample=True, temperature=0.1, top_k=10, top_p=0.1)\n",
    "\n",
    "\n",
    "        res = outputs[0][\"generated_text\"]\n",
    "        res = res.split('[/INST]', 2)[1]\n",
    "        return res\n",
    "\n",
    "        \n",
    "    except:\n",
    "        return \"<EXCEPTION>\"\n",
    "\n"
   ]
  },
  {
   "cell_type": "code",
   "execution_count": null,
   "id": "a1736a56",
   "metadata": {},
   "outputs": [],
   "source": [
    "pipe = pipeline(\"text-generation\", model=\"HuggingFaceH4/zephyr-7b-beta\", torch_dtype=torch.bfloat16, device_map=\"auto\")"
   ]
  },
  {
   "cell_type": "code",
   "execution_count": null,
   "id": "76d2beb0",
   "metadata": {},
   "outputs": [],
   "source": [
    "sample = \"\"\"\n",
    "---\\nname: Bug report\\nabout: Create a report to help us improve\\ntitle: ''\\nlabels: ''\\nassignees: ''\\n---\\n\\n**Describe the bug**\\nA clear and concise description of what the bug is.\\n\\n**To Reproduce**\\nSteps to reproduce the behavior:\\n1. Go to '...'\\n2. Click on '....'\\n3. Scroll down to '....'\\n4. See error\\n\\n**Expected behavior**\\nA clear and concise description of what you expected to happen.\\n\\n**Screenshots**\\nIf applicable, add screenshots to help explain your problem.\\n\\n**Desktop (please complete the following information):**\\n- OS: [e.g. iOS]\\n- Browser [e.g. chrome, safari]\\n- Version [e.g. 22]\\n\\n**Smartphone (please complete the following information):**\\n- Device: [e.g. iPhone6]\\n- OS: [e.g. iOS8.1]\\n- Browser [e.g. stock browser, safari]\\n- Version [e.g. 22]\\n\\n**Additional context**\\nAdd any other context about the problem here.\\n\n",
    "\"\"\""
   ]
  },
  {
   "cell_type": "code",
   "execution_count": null,
   "id": "86aa0fec",
   "metadata": {},
   "outputs": [],
   "source": [
    "fgen(sample)"
   ]
  }
 ],
 "metadata": {
  "kernelspec": {
   "display_name": "Python 3 (ipykernel)",
   "language": "python",
   "name": "python3"
  },
  "language_info": {
   "codemirror_mode": {
    "name": "ipython",
    "version": 3
   },
   "file_extension": ".py",
   "mimetype": "text/x-python",
   "name": "python",
   "nbconvert_exporter": "python",
   "pygments_lexer": "ipython3",
   "version": "3.8.16"
  }
 },
 "nbformat": 4,
 "nbformat_minor": 5
}
